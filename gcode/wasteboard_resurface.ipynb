{
 "cells": [
  {
   "cell_type": "markdown",
   "metadata": {},
   "source": [
    "# Generate Gcode to Resurface Wasteboard"
   ]
  },
  {
   "cell_type": "code",
   "execution_count": 1,
   "metadata": {},
   "outputs": [],
   "source": [
    "from GCodify import GCodify     # custom library to generate gcode\n",
    "import numpy as np"
   ]
  },
  {
   "cell_type": "markdown",
   "metadata": {},
   "source": [
    "# Machine Settings"
   ]
  },
  {
   "cell_type": "code",
   "execution_count": 13,
   "metadata": {},
   "outputs": [],
   "source": [
    "x_limits = [0, -280.0]           # machine table limits\n",
    "y_limits = [0, -172.0]\n",
    "z_safe = 2.0                    # safe z position for rapid moves\n",
    "z_plunge = -0.5                  # z cutting position\n",
    "cutter_diameter_mm  = 24.0      # diameter of surface cutter in mm\n",
    "cutter_overlap_percent = 25     # percent overlap of cutter path\n",
    "spindle_speed = 12000           # machine spindle speed\n",
    "\n",
    "plunge_feedrate = 20            # z plunge feedrate in mm/min\n",
    "cutting_feedrate = 200          # xy cutting feedrate in mm/min\n",
    "\n",
    "fname = \"spoilboard_resurface_V2.gcode\""
   ]
  },
  {
   "cell_type": "markdown",
   "metadata": {},
   "source": [
    "# Gcode generation for cutting right to left"
   ]
  },
  {
   "cell_type": "code",
   "execution_count": 16,
   "metadata": {},
   "outputs": [],
   "source": [
    "gcode = GCodify()\n",
    "\n",
    "# add gcode header\n",
    "gcode.comment(\"GCODE HEADER\")\n",
    "gcode.custom(\"G21 ; set units to mm\")\n",
    "gcode.custom(\"G90 ; set distance mode to absolute positioning \")\n",
    "gcode.custom(\"G94 ; set feedrate mode to mm/min \")\n",
    "\n",
    "# move to starting position\n",
    "gcode.goto_z(z_safe, \"goto safe z position for rapid moves\")\n",
    "gcode.goto_xy(max(x_limits), max(y_limits), \"goto min xy position \")\n",
    "gcode.custom(\"M03 S{} ; turn on spindle\".format(spindle_speed))\n",
    "gcode.comment(\" \")\n",
    "\n",
    "cutter_overlap_mm = cutter_diameter_mm * (cutter_overlap_percent / 100)\n",
    "y_step = cutter_diameter_mm - cutter_overlap_mm\n",
    "\n",
    "# start cutting right to left\n",
    "gcode.comment(\"GCODE BODY\")\n",
    "for y in np.arange(max(y_limits), min(y_limits), -1*y_step):\n",
    "    gcode.goto_xy(max(x_limits), y)\n",
    "    gcode.move_z(z_plunge, plunge_feedrate)\n",
    "    gcode.move_xy(min(x_limits), y, cutting_feedrate)\n",
    "    gcode.goto_z(z_safe)\n",
    "\n",
    "# final pass right to left\n",
    "gcode.goto_xy(max(x_limits), min(y_limits))\n",
    "gcode.move_z(z_plunge, plunge_feedrate)\n",
    "gcode.move_xy(min(x_limits), min(y_limits), cutting_feedrate)\n",
    "gcode.goto_z(z_safe)\n",
    "\n",
    "# start cutting top to bottom\n",
    "gcode.goto_z(z_safe)\n",
    "gcode.goto_xy(max(x_limits), max(y_limits))\n",
    "for x in np.arange(max(x_limits), min(x_limits), -1*y_step):\n",
    "    gcode.goto_xy(x, max(y_limits))\n",
    "    gcode.move_z(z_plunge, plunge_feedrate)\n",
    "    gcode.move_xy(x, min(y_limits), cutting_feedrate)\n",
    "    gcode.goto_z(z_safe)\n",
    "\n",
    "# final pass top to bottom\n",
    "gcode.goto_xy(min(x_limits), max(y_limits))\n",
    "gcode.move_z(z_plunge, plunge_feedrate)\n",
    "gcode.move_xy(min(x_limits), min(y_limits), cutting_feedrate)\n",
    "gcode.goto_z(z_safe)\n",
    "\n",
    "# add gcode footer\n",
    "gcode.comment(\" \")\n",
    "gcode.comment(\"GCODE FOOTER\")\n",
    "gcode.goto_z(z_safe)\n",
    "gcode.custom(\"M05 ; turn off spindle \")\n",
    "gcode.goto_xy(max(x_limits), max(y_limits))\n",
    "\n",
    "gcode.pretty()  # align left side of all inline comments\n",
    "gcode.write(fname)  # write gcode file"
   ]
  },
  {
   "cell_type": "code",
   "execution_count": null,
   "metadata": {},
   "outputs": [],
   "source": []
  }
 ],
 "metadata": {
  "kernelspec": {
   "display_name": "Python 3",
   "language": "python",
   "name": "python3"
  },
  "language_info": {
   "codemirror_mode": {
    "name": "ipython",
    "version": 3
   },
   "file_extension": ".py",
   "mimetype": "text/x-python",
   "name": "python",
   "nbconvert_exporter": "python",
   "pygments_lexer": "ipython3",
   "version": "3.11.8"
  }
 },
 "nbformat": 4,
 "nbformat_minor": 2
}
